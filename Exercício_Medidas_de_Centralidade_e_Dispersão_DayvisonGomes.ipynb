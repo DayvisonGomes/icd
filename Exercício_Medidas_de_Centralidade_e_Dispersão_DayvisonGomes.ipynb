{
  "nbformat": 4,
  "nbformat_minor": 0,
  "metadata": {
    "kernelspec": {
      "display_name": "icd",
      "language": "python",
      "name": "icd"
    },
    "language_info": {
      "codemirror_mode": {
        "name": "ipython",
        "version": 3
      },
      "file_extension": ".py",
      "mimetype": "text/x-python",
      "name": "python",
      "nbconvert_exporter": "python",
      "pygments_lexer": "ipython3",
      "version": "3.7.7"
    },
    "colab": {
      "name": "Exercício - Medidas de Centralidade e Dispersão_DayvisonGomes.ipynb",
      "provenance": [],
      "collapsed_sections": []
    }
  },
  "cells": [
    {
      "cell_type": "markdown",
      "metadata": {
        "id": "5t8DWx7Y4S2b"
      },
      "source": [
        "# Introdução à Ciência de Dados - UFPB\n",
        "Professor: Yuri Malheiros\n",
        "\n",
        "## Medidas de Centralidade e Dispersão"
      ]
    },
    {
      "cell_type": "markdown",
      "metadata": {
        "id": "Ail3rLv74S2d"
      },
      "source": [
        "A partir do dataset `movies.csv` calcule a média, mediana e desvio padrão para as colunas:"
      ]
    },
    {
      "cell_type": "code",
      "metadata": {
        "id": "uYdFcsRI7Qyw"
      },
      "source": [
        "import pandas as pd\n",
        "\n",
        "filmes = pd.read_csv('movies.csv')"
      ],
      "execution_count": null,
      "outputs": []
    },
    {
      "cell_type": "markdown",
      "metadata": {
        "id": "OIhYPVtV4S2e"
      },
      "source": [
        "### US Gross"
      ]
    },
    {
      "cell_type": "code",
      "metadata": {
        "id": "yhXNvKCk4S22",
        "outputId": "c39f7e2a-d600-482a-92d0-8b2ff90d9b0d",
        "colab": {
          "base_uri": "https://localhost:8080/"
        }
      },
      "source": [
        "media_us_gross = filmes['US Gross'].mean()\n",
        "mediana_us_gross = filmes['US Gross'].median()\n",
        "std_us_gross = filmes['US Gross'].std()\n",
        "\n",
        "print('Média: %f \\t Mediana: %f \\t Desvio padrão: %f '%(media_us_gross,mediana_us_gross,std_us_gross))"
      ],
      "execution_count": null,
      "outputs": [
        {
          "output_type": "stream",
          "text": [
            "Média: 44002085.163745 \t Mediana: 22019465.500000 \t Desvio padrão: 62555311.390662 \n"
          ],
          "name": "stdout"
        }
      ]
    },
    {
      "cell_type": "markdown",
      "metadata": {
        "id": "QqtGNwjn8w25"
      },
      "source": [
        ""
      ]
    },
    {
      "cell_type": "markdown",
      "metadata": {
        "id": "YT7v8oig4S38"
      },
      "source": [
        "### Production Budget"
      ]
    },
    {
      "cell_type": "code",
      "metadata": {
        "id": "JI86mymC4S3_",
        "outputId": "0944c581-e3f7-4cdf-d541-5792b28e0db1",
        "colab": {
          "base_uri": "https://localhost:8080/"
        }
      },
      "source": [
        "media_production_budget = filmes['Production Budget'].mean()\n",
        "mediana_production_budget = filmes['Production Budget'].median()\n",
        "std_production_budget = filmes['Production Budget'].std()\n",
        "\n",
        "print('Média: %f \\t Mediana: %f \\t Desvio padrão: %f '%(media_production_budget,mediana_production_budget,std_production_budget))"
      ],
      "execution_count": null,
      "outputs": [
        {
          "output_type": "stream",
          "text": [
            "Média: 31069171.448438 \t Mediana: 20000000.000000 \t Desvio padrão: 35585913.444644 \n"
          ],
          "name": "stdout"
        }
      ]
    },
    {
      "cell_type": "markdown",
      "metadata": {
        "id": "pgosp7pR4S4W"
      },
      "source": [
        "### Running Time"
      ]
    },
    {
      "cell_type": "code",
      "metadata": {
        "id": "3Zwrg5JJ4S4e",
        "outputId": "13210c6d-8a49-430b-8ef4-a418d4a12cef",
        "colab": {
          "base_uri": "https://localhost:8080/"
        }
      },
      "source": [
        "media_time = filmes['Running Time (min)'].mean()\n",
        "mediana_time = filmes['Running Time (min)'].median()\n",
        "std_time = filmes['Running Time (min)'].std()\n",
        "\n",
        "print('Média: %f \\t Mediana: %f \\t Desvio padrão: %f '%(media_time,mediana_time,std_time))"
      ],
      "execution_count": null,
      "outputs": [
        {
          "output_type": "stream",
          "text": [
            "Média: 110.193548 \t Mediana: 107.000000 \t Desvio padrão: 20.171014 \n"
          ],
          "name": "stdout"
        }
      ]
    },
    {
      "cell_type": "markdown",
      "metadata": {
        "id": "yztYiZX64S5f"
      },
      "source": [
        "### IMDB Rating"
      ]
    },
    {
      "cell_type": "code",
      "metadata": {
        "id": "u1BB8Pgy4S5h",
        "outputId": "41c68c0f-00d8-4fd0-b588-2d3ae7e09214",
        "colab": {
          "base_uri": "https://localhost:8080/"
        }
      },
      "source": [
        "media_IMDB = filmes['IMDB Rating'].mean()\n",
        "mediana_IMDB = filmes['IMDB Rating'].median()\n",
        "std_IMDB = filmes['IMDB Rating'].std()\n",
        "\n",
        "print('Média: %f \\t Mediana: %f \\t Desvio padrão: %f '%(media_IMDB,mediana_IMDB,std_IMDB))"
      ],
      "execution_count": null,
      "outputs": [
        {
          "output_type": "stream",
          "text": [
            "Média: 6.283467 \t Mediana: 6.400000 \t Desvio padrão: 1.252290 \n"
          ],
          "name": "stdout"
        }
      ]
    },
    {
      "cell_type": "markdown",
      "metadata": {
        "id": "9H6MxgOi4S5u"
      },
      "source": [
        "### IMDB Votes"
      ]
    },
    {
      "cell_type": "code",
      "metadata": {
        "id": "8ag5S1zE4S5w",
        "outputId": "2b49ecd8-3da8-4a04-f867-1b5518924d99",
        "colab": {
          "base_uri": "https://localhost:8080/"
        }
      },
      "source": [
        "media_votes = filmes['IMDB Votes'].mean()\n",
        "mediana_votes = filmes['IMDB Votes'].median()\n",
        "std_votes = filmes['IMDB Votes'].std()\n",
        "\n",
        "print('Média: %f \\t Mediana: %f \\t Desvio padrão: %f '%(media_votes,mediana_votes,std_votes))"
      ],
      "execution_count": null,
      "outputs": [
        {
          "output_type": "stream",
          "text": [
            "Média: 29908.644578 \t Mediana: 15106.000000 \t Desvio padrão: 44937.582335 \n"
          ],
          "name": "stdout"
        }
      ]
    },
    {
      "cell_type": "markdown",
      "metadata": {
        "id": "QYX1zqRR4S6B"
      },
      "source": [
        "### Análise dos Resultados\n",
        "\n",
        "Quais colunas tiveram valores muito diferentes entre média e mediana? Quais os seus desvios padrão?"
      ]
    },
    {
      "cell_type": "markdown",
      "metadata": {
        "id": "sCXym1sb4S6C"
      },
      "source": [
        "**As colunas US Gross, Production Budget e IMDB Votes com seus respectivos desvios padrões:**\n",
        "<ul>\n",
        "<li> <b>62555311.390662</b> </li>\n",
        "<li> <b>35585913.444644</b> </li>\n",
        "<li> <b>44937.582335</b> </li>\n",
        "</ul>\n",
        " "
      ]
    },
    {
      "cell_type": "markdown",
      "metadata": {
        "id": "mhWzobF-4S6E"
      },
      "source": [
        "Que conclusões podemos tirar desses resultados?"
      ]
    },
    {
      "cell_type": "markdown",
      "metadata": {
        "id": "1HUEqfO34S6H"
      },
      "source": [
        "**Com esses desvios tão altos, podemos concluir que existem dados com valores enormes e/ou com valores pequenos, assim esses valores estão distantes da média, ou seja, bem espalhados.**"
      ]
    },
    {
      "cell_type": "code",
      "metadata": {
        "id": "Hjih5ZxjExnQ"
      },
      "source": [
        ""
      ],
      "execution_count": null,
      "outputs": []
    }
  ]
}