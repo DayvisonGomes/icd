{
 "cells": [
  {
   "cell_type": "markdown",
   "metadata": {},
   "source": [
    "# Introdução à Ciência de Dados - UFPB\n",
    "Professor: Yuri Malheiros\n",
    "\n",
    "## Python - Random - Exercício"
   ]
  },
  {
   "cell_type": "markdown",
   "metadata": {},
   "source": [
    "Implemente a função `generate_password` que deve gerar uma senha aleatória.\n",
    "\n",
    "A função tem tres parâmetros:\n",
    "\n",
    "- `n_chars` especifica o tamanho da senha gerada\n",
    "- `use_numbers` especifica se números podem ser usados na senha. Por padrão, esse parâmetro tem valor True\n",
    "- `use_special_chars` especifica se caracteres especiais, por exemplo !#%&@?, pode ser usados na senha. Por padrão, esse parâmetro tem valor True\n",
    "\n",
    "Note que se `use_numbers` e `use_special_chars` tiverem valor False, a senha terá apenas letras maiúsculas ou minúsculas."
   ]
  },
  {
   "cell_type": "code",
   "execution_count": 405,
   "metadata": {},
   "outputs": [],
   "source": [
    "import string\n",
    "import random\n",
    "\n",
    "def generate_password(n_chars, use_numbers=True, use_special_chars=True):\n",
    "    \n",
    "    letras_m = string.ascii_lowercase\n",
    "    digitos = string.digits\n",
    "    special_chars = string.punctuation\n",
    "    \n",
    "    password = ''\n",
    "    \n",
    "    if use_numbers == True and use_special_chars == True:\n",
    "        \n",
    "        for i in range(n_chars):\n",
    "            sort_m = random.choice(letras_m)\n",
    "            sort_number = random.choice(digitos)\n",
    "            sort_special = random.choice(special_chars)\n",
    "\n",
    "            lista = [sort_m, sort_number, sort_special]\n",
    "            number = random.randrange(0,len(lista))\n",
    "            \n",
    "            password += lista[number]\n",
    "        \n",
    "        return password\n",
    "    \n",
    "    if use_numbers == False and use_special_chars == True:\n",
    "        \n",
    "        for i in range(n_chars):\n",
    "            sort_m = random.choice(letras_m)\n",
    "            sort_special = random.choice(special_chars)\n",
    "\n",
    "            lista = [sort_m, sort_special]\n",
    "            number = random.randrange(0,len(lista))\n",
    "            \n",
    "            password += lista[number]\n",
    "        \n",
    "        return password\n",
    "    \n",
    "    if use_numbers == True and use_special_chars == False:\n",
    "        \n",
    "        for i in range(n_chars):\n",
    "            sort_m = random.choice(letras_m)\n",
    "            sort_number = random.choice(digitos)\n",
    "\n",
    "            lista = [sort_m, sort_number]\n",
    "            number = random.randrange(0,len(lista))\n",
    "            \n",
    "            password += lista[number]\n",
    "        \n",
    "        return password\n",
    "    \n",
    "    else:\n",
    "        \n",
    "        for i in range(n_chars):\n",
    "            sort_m = random.choice(letras_m)\n",
    "            password += sort_m\n",
    "        \n",
    "        return password"
   ]
  },
  {
   "cell_type": "code",
   "execution_count": 406,
   "metadata": {},
   "outputs": [
    {
     "data": {
      "text/plain": [
       "\"]'??e1*\\\\4;\""
      ]
     },
     "execution_count": 406,
     "metadata": {},
     "output_type": "execute_result"
    }
   ],
   "source": [
    "generate_password(10)"
   ]
  },
  {
   "cell_type": "code",
   "execution_count": 412,
   "metadata": {},
   "outputs": [
    {
     "name": "stdout",
     "output_type": "stream",
     "text": [
      "%_&+{7pk~q\n",
      "b`lt[p<jll\n",
      "otynnfvhkl\n"
     ]
    }
   ],
   "source": [
    "print(generate_password(10))\n",
    "print(generate_password(10, use_numbers=False))\n",
    "print(generate_password(10, use_numbers=False, use_special_chars=False))"
   ]
  },
  {
   "cell_type": "code",
   "execution_count": null,
   "metadata": {},
   "outputs": [],
   "source": []
  }
 ],
 "metadata": {
  "kernelspec": {
   "display_name": "Python 3.7.8 64-bit",
   "language": "python",
   "name": "python37864bit495e1475edf94aefba7d43b7fc8e0b4f"
  },
  "language_info": {
   "codemirror_mode": {
    "name": "ipython",
    "version": 3
   },
   "file_extension": ".py",
   "mimetype": "text/x-python",
   "name": "python",
   "nbconvert_exporter": "python",
   "pygments_lexer": "ipython3",
   "version": "3.7.8"
  }
 },
 "nbformat": 4,
 "nbformat_minor": 4
}
