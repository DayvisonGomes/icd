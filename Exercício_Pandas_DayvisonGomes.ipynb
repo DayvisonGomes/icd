{
 "cells": [
  {
   "cell_type": "markdown",
   "metadata": {
    "id": "yXn0JN8H1ch-"
   },
   "source": [
    "# Introdução à Ciência de Dados - UFPB\n",
    "Professor: Yuri Malheiros\n",
    "\n",
    "## Pandas"
   ]
  },
  {
   "cell_type": "markdown",
   "metadata": {
    "id": "3W7wVLjG1ciE"
   },
   "source": [
    "A partir do dataset `movies.csv` utilize o Pandas para responder as seguintes perguntas:"
   ]
  },
  {
   "cell_type": "code",
   "execution_count": 24,
   "metadata": {
    "id": "2X7z6BG61o-A"
   },
   "outputs": [],
   "source": [
    "import pandas as pd\n",
    "\n",
    "filmes = pd.read_csv('movies.csv')"
   ]
  },
  {
   "cell_type": "code",
   "execution_count": 25,
   "metadata": {
    "colab": {
     "base_uri": "https://localhost:8080/",
     "height": 340
    },
    "id": "hGlh39c128Y4",
    "outputId": "0e251431-e65e-430a-af55-d8f7d90c6eff"
   },
   "outputs": [
    {
     "data": {
      "text/html": [
       "<div>\n",
       "<style scoped>\n",
       "    .dataframe tbody tr th:only-of-type {\n",
       "        vertical-align: middle;\n",
       "    }\n",
       "\n",
       "    .dataframe tbody tr th {\n",
       "        vertical-align: top;\n",
       "    }\n",
       "\n",
       "    .dataframe thead th {\n",
       "        text-align: right;\n",
       "    }\n",
       "</style>\n",
       "<table border=\"1\" class=\"dataframe\">\n",
       "  <thead>\n",
       "    <tr style=\"text-align: right;\">\n",
       "      <th></th>\n",
       "      <th>Title</th>\n",
       "      <th>US Gross</th>\n",
       "      <th>Worldwide Gross</th>\n",
       "      <th>US DVD Sales</th>\n",
       "      <th>Production Budget</th>\n",
       "      <th>Release Date</th>\n",
       "      <th>MPAA Rating</th>\n",
       "      <th>Running Time (min)</th>\n",
       "      <th>Distributor</th>\n",
       "      <th>Source</th>\n",
       "      <th>Major Genre</th>\n",
       "      <th>Creative Type</th>\n",
       "      <th>Director</th>\n",
       "      <th>Rotten Tomatoes Rating</th>\n",
       "      <th>IMDB Rating</th>\n",
       "      <th>IMDB Votes</th>\n",
       "    </tr>\n",
       "  </thead>\n",
       "  <tbody>\n",
       "    <tr>\n",
       "      <th>0</th>\n",
       "      <td>The Land Girls</td>\n",
       "      <td>146083.0</td>\n",
       "      <td>146083.0</td>\n",
       "      <td>NaN</td>\n",
       "      <td>8000000.0</td>\n",
       "      <td>12-Jun-98</td>\n",
       "      <td>R</td>\n",
       "      <td>NaN</td>\n",
       "      <td>Gramercy</td>\n",
       "      <td>NaN</td>\n",
       "      <td>NaN</td>\n",
       "      <td>NaN</td>\n",
       "      <td>NaN</td>\n",
       "      <td>NaN</td>\n",
       "      <td>6.1</td>\n",
       "      <td>1071.0</td>\n",
       "    </tr>\n",
       "    <tr>\n",
       "      <th>1</th>\n",
       "      <td>First Love, Last Rites</td>\n",
       "      <td>10876.0</td>\n",
       "      <td>10876.0</td>\n",
       "      <td>NaN</td>\n",
       "      <td>300000.0</td>\n",
       "      <td>7-Aug-98</td>\n",
       "      <td>R</td>\n",
       "      <td>NaN</td>\n",
       "      <td>Strand</td>\n",
       "      <td>NaN</td>\n",
       "      <td>Drama</td>\n",
       "      <td>NaN</td>\n",
       "      <td>NaN</td>\n",
       "      <td>NaN</td>\n",
       "      <td>6.9</td>\n",
       "      <td>207.0</td>\n",
       "    </tr>\n",
       "    <tr>\n",
       "      <th>2</th>\n",
       "      <td>I Married a Strange Person</td>\n",
       "      <td>203134.0</td>\n",
       "      <td>203134.0</td>\n",
       "      <td>NaN</td>\n",
       "      <td>250000.0</td>\n",
       "      <td>28-Aug-98</td>\n",
       "      <td>NaN</td>\n",
       "      <td>NaN</td>\n",
       "      <td>Lionsgate</td>\n",
       "      <td>NaN</td>\n",
       "      <td>Comedy</td>\n",
       "      <td>NaN</td>\n",
       "      <td>NaN</td>\n",
       "      <td>NaN</td>\n",
       "      <td>6.8</td>\n",
       "      <td>865.0</td>\n",
       "    </tr>\n",
       "    <tr>\n",
       "      <th>3</th>\n",
       "      <td>Let's Talk About Sex</td>\n",
       "      <td>373615.0</td>\n",
       "      <td>373615.0</td>\n",
       "      <td>NaN</td>\n",
       "      <td>300000.0</td>\n",
       "      <td>11-Sep-98</td>\n",
       "      <td>NaN</td>\n",
       "      <td>NaN</td>\n",
       "      <td>Fine Line</td>\n",
       "      <td>NaN</td>\n",
       "      <td>Comedy</td>\n",
       "      <td>NaN</td>\n",
       "      <td>NaN</td>\n",
       "      <td>13.0</td>\n",
       "      <td>NaN</td>\n",
       "      <td>NaN</td>\n",
       "    </tr>\n",
       "    <tr>\n",
       "      <th>4</th>\n",
       "      <td>Slam</td>\n",
       "      <td>1009819.0</td>\n",
       "      <td>1087521.0</td>\n",
       "      <td>NaN</td>\n",
       "      <td>1000000.0</td>\n",
       "      <td>9-Oct-98</td>\n",
       "      <td>R</td>\n",
       "      <td>NaN</td>\n",
       "      <td>Trimark</td>\n",
       "      <td>Original Screenplay</td>\n",
       "      <td>Drama</td>\n",
       "      <td>Contemporary Fiction</td>\n",
       "      <td>NaN</td>\n",
       "      <td>62.0</td>\n",
       "      <td>3.4</td>\n",
       "      <td>165.0</td>\n",
       "    </tr>\n",
       "  </tbody>\n",
       "</table>\n",
       "</div>"
      ],
      "text/plain": [
       "                        Title   US Gross  Worldwide Gross  US DVD Sales  \\\n",
       "0              The Land Girls   146083.0         146083.0           NaN   \n",
       "1      First Love, Last Rites    10876.0          10876.0           NaN   \n",
       "2  I Married a Strange Person   203134.0         203134.0           NaN   \n",
       "3        Let's Talk About Sex   373615.0         373615.0           NaN   \n",
       "4                        Slam  1009819.0        1087521.0           NaN   \n",
       "\n",
       "   Production Budget Release Date MPAA Rating  Running Time (min) Distributor  \\\n",
       "0          8000000.0    12-Jun-98           R                 NaN    Gramercy   \n",
       "1           300000.0     7-Aug-98           R                 NaN      Strand   \n",
       "2           250000.0    28-Aug-98         NaN                 NaN   Lionsgate   \n",
       "3           300000.0    11-Sep-98         NaN                 NaN   Fine Line   \n",
       "4          1000000.0     9-Oct-98           R                 NaN     Trimark   \n",
       "\n",
       "                Source Major Genre         Creative Type Director  \\\n",
       "0                  NaN         NaN                   NaN      NaN   \n",
       "1                  NaN       Drama                   NaN      NaN   \n",
       "2                  NaN      Comedy                   NaN      NaN   \n",
       "3                  NaN      Comedy                   NaN      NaN   \n",
       "4  Original Screenplay       Drama  Contemporary Fiction      NaN   \n",
       "\n",
       "   Rotten Tomatoes Rating  IMDB Rating  IMDB Votes  \n",
       "0                     NaN          6.1      1071.0  \n",
       "1                     NaN          6.9       207.0  \n",
       "2                     NaN          6.8       865.0  \n",
       "3                    13.0          NaN         NaN  \n",
       "4                    62.0          3.4       165.0  "
      ]
     },
     "execution_count": 25,
     "metadata": {},
     "output_type": "execute_result"
    }
   ],
   "source": [
    "filmes.head()"
   ]
  },
  {
   "cell_type": "markdown",
   "metadata": {
    "id": "0MlIHtFr2MFT"
   },
   "source": []
  },
  {
   "cell_type": "markdown",
   "metadata": {
    "id": "dUXO33bJ1ciG"
   },
   "source": [
    "### Qual o gênero de filme mais lucrativo em todo o mundo?"
   ]
  },
  {
   "cell_type": "code",
   "execution_count": 45,
   "metadata": {
    "id": "zZMXuk55md7T"
   },
   "outputs": [],
   "source": [
    "generos = filmes['Major Genre'].unique()\n",
    "luc = [filmes[filmes['Major Genre'].unique()[i] == filmes['Major Genre']]['Worldwide Gross'].sum() for i in range(len(generos))]  "
   ]
  },
  {
   "cell_type": "code",
   "execution_count": 46,
   "metadata": {
    "colab": {
     "base_uri": "https://localhost:8080/"
    },
    "id": "au5VGjT4rMUD",
    "outputId": "02f83388-b162-437f-96d0-806a6fe24c80"
   },
   "outputs": [
    {
     "data": {
      "text/plain": [
       "Adventure              6.608096e+10\n",
       "Action                 6.043561e+10\n",
       "Comedy                 5.038405e+10\n",
       "Drama                  4.047617e+10\n",
       "Thriller/Suspense      1.926069e+10\n",
       "Horror                 1.332168e+10\n",
       "Romantic Comedy        1.186665e+10\n",
       "Musical                3.904838e+09\n",
       "Western                1.301373e+09\n",
       "Black Comedy           8.246719e+08\n",
       "Documentary            6.989444e+08\n",
       "Concert/Performance    1.536220e+08\n",
       "NaN                    0.000000e+00\n",
       "dtype: float64"
      ]
     },
     "execution_count": 46,
     "metadata": {},
     "output_type": "execute_result"
    }
   ],
   "source": [
    "genero_dinheiro = pd.Series(luc, generos) #aqui eu não estou contando com o custo de produção\n",
    "genero_dinheiro.sort_values(ascending=False)"
   ]
  },
  {
   "cell_type": "markdown",
   "metadata": {
    "id": "G8iVj82smmZF"
   },
   "source": [
    "### Vendo os lucros no mundo em relação ao custo de produção"
   ]
  },
  {
   "cell_type": "code",
   "execution_count": 47,
   "metadata": {
    "id": "xk_Jo7ksnAzZ"
   },
   "outputs": [],
   "source": [
    "generos_ = filmes['Major Genre'].unique()\n",
    "lucro = [filmes[filmes['Major Genre'].unique()[i] == filmes['Major Genre']]['Diference World'].sum() for i in range(len(generos_))] "
   ]
  },
  {
   "cell_type": "code",
   "execution_count": 48,
   "metadata": {
    "colab": {
     "base_uri": "https://localhost:8080/"
    },
    "id": "dP4CjGZAnL1b",
    "outputId": "4fa0df1e-60d2-4754-fed8-d12190a1a750"
   },
   "outputs": [
    {
     "data": {
      "text/plain": [
       "Adventure              4.721806e+10\n",
       "Action                 3.746743e+10\n",
       "Comedy                 3.116520e+10\n",
       "Drama                  2.265896e+10\n",
       "Thriller/Suspense      1.137307e+10\n",
       "Horror                 9.264508e+09\n",
       "Romantic Comedy        7.982421e+09\n",
       "Musical                2.771821e+09\n",
       "Documentary            5.176731e+08\n",
       "Western                3.960512e+08\n",
       "Black Comedy           3.633219e+08\n",
       "Concert/Performance    1.231220e+08\n",
       "NaN                    0.000000e+00\n",
       "dtype: float64"
      ]
     },
     "execution_count": 48,
     "metadata": {},
     "output_type": "execute_result"
    }
   ],
   "source": [
    "genero_dinheiro = pd.Series(lucro, generos_) #aqui eu vejo com os custos de produção\n",
    "genero_dinheiro.sort_values(ascending=False)"
   ]
  },
  {
   "cell_type": "markdown",
   "metadata": {
    "id": "cLECJQZx1ciV"
   },
   "source": [
    "### Qual o diretor dirigiu mais filmes?"
   ]
  },
  {
   "cell_type": "code",
   "execution_count": 31,
   "metadata": {
    "colab": {
     "base_uri": "https://localhost:8080/",
     "height": 35
    },
    "id": "sEflTn9a1ciW",
    "outputId": "9d809c13-1357-4a37-c653-1cd21f069a5f"
   },
   "outputs": [
    {
     "data": {
      "text/plain": [
       "'Steven Spielberg'"
      ]
     },
     "execution_count": 31,
     "metadata": {},
     "output_type": "execute_result"
    }
   ],
   "source": [
    "filmes['Director'].value_counts().index.values[0]"
   ]
  },
  {
   "cell_type": "markdown",
   "metadata": {
    "id": "35Xk2hPb1cij"
   },
   "source": [
    "### Quais filmes tiverem os maiores arrecadações (Gross) em relação ao orçamento de produção (Budget)?"
   ]
  },
  {
   "cell_type": "code",
   "execution_count": 32,
   "metadata": {
    "id": "lwV84sTu1cil"
   },
   "outputs": [],
   "source": [
    "filmes['Diference US'] = filmes['US Gross'] - filmes['Production Budget']"
   ]
  },
  {
   "cell_type": "code",
   "execution_count": 33,
   "metadata": {
    "id": "y9nhOUgmCwKv"
   },
   "outputs": [],
   "source": [
    "indices = [filmes['Diference US'].sort_values(ascending=False).index[i] for i in range(10)] "
   ]
  },
  {
   "cell_type": "code",
   "execution_count": 34,
   "metadata": {
    "colab": {
     "base_uri": "https://localhost:8080/"
    },
    "id": "rMSsWY5aFE0E",
    "outputId": "15c133ba-78ac-4dd6-bda8-72706f76373f"
   },
   "outputs": [
    {
     "data": {
      "text/plain": [
       "1234                                           Avatar\n",
       "912                      Star Wars Ep. IV: A New Hope\n",
       "296                         ET: The Extra-Terrestrial\n",
       "2970                                          Titanic\n",
       "2741                                          Shrek 2\n",
       "1266                                  The Dark Knight\n",
       "2488                        The Passion of the Christ\n",
       "2883              Star Wars Ep. I: The Phantom Menace\n",
       "485                                     Jurassic Park\n",
       "2202    The Lord of the Rings: The Return of the King\n",
       "Name: Title, dtype: object"
      ]
     },
     "execution_count": 34,
     "metadata": {},
     "output_type": "execute_result"
    }
   ],
   "source": [
    "filmes['Title'].loc[indices]"
   ]
  },
  {
   "cell_type": "markdown",
   "metadata": {
    "id": "L-rbZ3nSUAMC"
   },
   "source": [
    "### As maiores arrecadações no mundo"
   ]
  },
  {
   "cell_type": "code",
   "execution_count": 35,
   "metadata": {
    "id": "NDGeYn90SnDz"
   },
   "outputs": [],
   "source": [
    "filmes['Diference World'] = filmes['Worldwide Gross'] - filmes['Production Budget']"
   ]
  },
  {
   "cell_type": "code",
   "execution_count": 36,
   "metadata": {
    "id": "CnQa4nL5SyF6"
   },
   "outputs": [],
   "source": [
    "indices_world = [filmes['Diference World'].sort_values(ascending=False).index[i] for i in range(10)] "
   ]
  },
  {
   "cell_type": "code",
   "execution_count": 37,
   "metadata": {
    "colab": {
     "base_uri": "https://localhost:8080/"
    },
    "id": "BFwrrLl5SzmD",
    "outputId": "fa5d6915-87de-498b-a3e8-1a048e6fec0f"
   },
   "outputs": [
    {
     "data": {
      "text/plain": [
       "1234                                           Avatar\n",
       "2970                                          Titanic\n",
       "2202    The Lord of the Rings: The Return of the King\n",
       "485                                     Jurassic Park\n",
       "1975            Harry Potter and the Sorcerer's Stone\n",
       "2741                                          Shrek 2\n",
       "2987                                      Toy Story 3\n",
       "2507       Pirates of the Caribbean: Dead Man's Chest\n",
       "1266                                  The Dark Knight\n",
       "2201            The Lord of the Rings: The Two Towers\n",
       "Name: Title, dtype: object"
      ]
     },
     "execution_count": 37,
     "metadata": {},
     "output_type": "execute_result"
    }
   ],
   "source": [
    "filmes['Title'].loc[indices_world]"
   ]
  },
  {
   "cell_type": "code",
   "execution_count": null,
   "metadata": {
    "id": "n47zMROKS5Ya"
   },
   "outputs": [],
   "source": []
  },
  {
   "cell_type": "code",
   "execution_count": null,
   "metadata": {},
   "outputs": [],
   "source": []
  }
 ],
 "metadata": {
  "colab": {
   "collapsed_sections": [],
   "name": "Exercício_Pandas_DayvisonGomes.ipynb",
   "provenance": []
  },
  "kernelspec": {
   "display_name": "Python 3",
   "language": "python",
   "name": "python3"
  },
  "language_info": {
   "codemirror_mode": {
    "name": "ipython",
    "version": 3
   },
   "file_extension": ".py",
   "mimetype": "text/x-python",
   "name": "python",
   "nbconvert_exporter": "python",
   "pygments_lexer": "ipython3",
   "version": "3.7.9"
  }
 },
 "nbformat": 4,
 "nbformat_minor": 1
}
